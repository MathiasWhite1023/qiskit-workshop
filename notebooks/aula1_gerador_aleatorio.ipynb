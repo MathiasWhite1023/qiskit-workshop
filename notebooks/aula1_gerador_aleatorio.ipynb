{
 "cells": [
  {
   "cell_type": "markdown",
   "id": "7daa3bd7",
   "metadata": {},
   "source": [
    "# Aula 1: Gerador de Números Aleatórios Quânticos\n",
    "\n",
    "Bem-vindos ao workshop de Qiskit! Nesta primeira aula, vamos aprender sobre:\n",
    "\n",
    "1. **Conceitos básicos de computação quântica**\n",
    "2. **Por que números quânticos são verdadeiramente aleatórios**\n",
    "3. **Como criar um gerador de números aleatórios quântico**\n",
    "4. **Comparação com geradores clássicos**\n",
    "\n",
    "---"
   ]
  },
  {
   "cell_type": "markdown",
   "id": "c6cfc728",
   "metadata": {},
   "source": [
    "## 1. Importando as Bibliotecas Necessárias\n",
    "\n",
    "Primeiro, vamos importar todas as bibliotecas que precisaremos:"
   ]
  },
  {
   "cell_type": "code",
   "execution_count": null,
   "id": "56f7b5e2",
   "metadata": {},
   "outputs": [],
   "source": [
    "# Importações do Qiskit\n",
    "from qiskit import QuantumCircuit, execute, Aer\n",
    "from qiskit.visualization import plot_histogram\n",
    "from qiskit_aer import AerSimulator\n",
    "\n",
    "# Importações para análise de dados\n",
    "import numpy as np\n",
    "import matplotlib.pyplot as plt\n",
    "from collections import Counter\n",
    "import random\n",
    "\n",
    "print(\"Bibliotecas importadas com sucesso!\")"
   ]
  },
  {
   "cell_type": "markdown",
   "id": "b242d5ee",
   "metadata": {},
   "source": [
    "## 2. Conceitos Fundamentais\n",
    "\n",
    "### O que é um Qubit?\n",
    "\n",
    "Um **qubit** (quantum bit) é a unidade básica de informação quântica. Diferente de um bit clássico que pode ser 0 ou 1, um qubit pode estar em uma **superposição** dos estados |0⟩ e |1⟩.\n",
    "\n",
    "### Porta Hadamard (H)\n",
    "\n",
    "A porta Hadamard coloca um qubit em superposição uniforme:\n",
    "- H|0⟩ = (|0⟩ + |1⟩)/√2\n",
    "- Quando medimos, temos 50% de chance de obter 0 e 50% de chance de obter 1"
   ]
  },
  {
   "cell_type": "markdown",
   "id": "4872ed74",
   "metadata": {},
   "source": [
    "## 3. Nosso Primeiro Gerador Quântico\n",
    "\n",
    "Vamos criar um circuito quântico simples que gera um bit aleatório:"
   ]
  },
  {
   "cell_type": "code",
   "execution_count": null,
   "id": "488c52cc",
   "metadata": {},
   "outputs": [],
   "source": [
    "def criar_circuito_1_bit():\n",
    "    \"\"\"\n",
    "    Cria um circuito quântico que gera 1 bit aleatório\n",
    "    \"\"\"\n",
    "    # Criar circuito com 1 qubit e 1 bit clássico\n",
    "    qc = QuantumCircuit(1, 1)\n",
    "    \n",
    "    # Aplicar porta Hadamard para criar superposição\n",
    "    qc.h(0)\n",
    "    \n",
    "    # Medir o qubit\n",
    "    qc.measure(0, 0)\n",
    "    \n",
    "    return qc\n",
    "\n",
    "# Criar e visualizar o circuito\n",
    "circuito = criar_circuito_1_bit()\n",
    "print(circuito.draw())"
   ]
  },
  {
   "cell_type": "code",
   "execution_count": null,
   "id": "0574bba4",
   "metadata": {},
   "outputs": [],
   "source": [
    "# Executar o circuito múltiplas vezes\n",
    "def gerar_bits_quanticos(num_shots=1000):\n",
    "    \"\"\"\n",
    "    Gera múltiplos bits aleatórios quânticos\n",
    "    \"\"\"\n",
    "    circuito = criar_circuito_1_bit()\n",
    "    \n",
    "    # Usar simulador\n",
    "    simulator = AerSimulator()\n",
    "    \n",
    "    # Executar o circuito\n",
    "    job = execute(circuito, simulator, shots=num_shots)\n",
    "    result = job.result()\n",
    "    counts = result.get_counts(circuito)\n",
    "    \n",
    "    return counts\n",
    "\n",
    "# Gerar 1000 bits aleatórios\n",
    "resultados = gerar_bits_quanticos(1000)\n",
    "print(f\"Resultados: {resultados}\")\n",
    "\n",
    "# Visualizar os resultados\n",
    "plot_histogram(resultados, title='Distribuição de Bits Aleatórios Quânticos')\n",
    "plt.show()"
   ]
  },
  {
   "cell_type": "markdown",
   "id": "c16f6ad4",
   "metadata": {},
   "source": [
    "## 4. Gerador de Múltiplos Bits\n",
    "\n",
    "Agora vamos criar um gerador que produz múltiplos bits aleatórios de uma vez:"
   ]
  },
  {
   "cell_type": "code",
   "execution_count": null,
   "id": "61743d4b",
   "metadata": {},
   "outputs": [],
   "source": [
    "def criar_circuito_n_bits(n_bits):\n",
    "    \"\"\"\n",
    "    Cria um circuito quântico que gera n bits aleatórios\n",
    "    \"\"\"\n",
    "    # Criar circuito com n qubits e n bits clássicos\n",
    "    qc = QuantumCircuit(n_bits, n_bits)\n",
    "    \n",
    "    # Aplicar Hadamard em todos os qubits\n",
    "    for i in range(n_bits):\n",
    "        qc.h(i)\n",
    "    \n",
    "    # Medir todos os qubits\n",
    "    for i in range(n_bits):\n",
    "        qc.measure(i, i)\n",
    "    \n",
    "    return qc\n",
    "\n",
    "# Criar circuito para 4 bits\n",
    "circuito_4bits = criar_circuito_n_bits(4)\n",
    "print(circuito_4bits.draw())"
   ]
  },
  {
   "cell_type": "code",
   "execution_count": null,
   "id": "f91bc31b",
   "metadata": {},
   "outputs": [],
   "source": [
    "def gerar_numero_aleatorio_quantico(n_bits, num_shots=1):\n",
    "    \"\"\"\n",
    "    Gera um número aleatório quântico de n bits\n",
    "    \"\"\"\n",
    "    circuito = criar_circuito_n_bits(n_bits)\n",
    "    simulator = AerSimulator()\n",
    "    \n",
    "    job = execute(circuito, simulator, shots=num_shots)\n",
    "    result = job.result()\n",
    "    counts = result.get_counts(circuito)\n",
    "    \n",
    "    # Pegar o primeiro resultado\n",
    "    bit_string = list(counts.keys())[0]\n",
    "    \n",
    "    # Converter para número decimal\n",
    "    numero = int(bit_string, 2)\n",
    "    \n",
    "    return numero, bit_string\n",
    "\n",
    "# Gerar alguns números aleatórios\n",
    "print(\"Números aleatórios quânticos (4 bits):\")\n",
    "for i in range(10):\n",
    "    numero, bits = gerar_numero_aleatorio_quantico(4)\n",
    "    print(f\"Bits: {bits} -> Decimal: {numero}\")"
   ]
  },
  {
   "cell_type": "markdown",
   "id": "aaeed5e2",
   "metadata": {},
   "source": [
    "## 5. Análise Estatística\n",
    "\n",
    "Vamos analisar a qualidade da aleatoriedade dos nossos números quânticos:"
   ]
  },
  {
   "cell_type": "code",
   "execution_count": null,
   "id": "23278b34",
   "metadata": {},
   "outputs": [],
   "source": [
    "def analisar_aleatoriedade(n_bits, num_amostras=1000):\n",
    "    \"\"\"\n",
    "    Analisa a aleatoriedade de números gerados quanticamente\n",
    "    \"\"\"\n",
    "    numeros_quanticos = []\n",
    "    \n",
    "    # Gerar múltiplas amostras\n",
    "    for _ in range(num_amostras):\n",
    "        numero, _ = gerar_numero_aleatorio_quantico(n_bits)\n",
    "        numeros_quanticos.append(numero)\n",
    "    \n",
    "    # Calcular estatísticas\n",
    "    maximo_possivel = 2**n_bits - 1\n",
    "    media_esperada = maximo_possivel / 2\n",
    "    media_observada = np.mean(numeros_quanticos)\n",
    "    \n",
    "    print(f\"Análise de {num_amostras} números de {n_bits} bits:\")\n",
    "    print(f\"Faixa possível: 0 a {maximo_possivel}\")\n",
    "    print(f\"Média esperada: {media_esperada:.2f}\")\n",
    "    print(f\"Média observada: {media_observada:.2f}\")\n",
    "    print(f\"Desvio padrão: {np.std(numeros_quanticos):.2f}\")\n",
    "    \n",
    "    return numeros_quanticos\n",
    "\n",
    "# Analisar números de 4 bits\n",
    "numeros = analisar_aleatoriedade(4, 1000)"
   ]
  },
  {
   "cell_type": "code",
   "execution_count": null,
   "id": "92ac7563",
   "metadata": {},
   "outputs": [],
   "source": [
    "# Visualizar a distribuição\n",
    "plt.figure(figsize=(12, 5))\n",
    "\n",
    "# Histograma dos números gerados\n",
    "plt.subplot(1, 2, 1)\n",
    "plt.hist(numeros, bins=16, alpha=0.7, color='blue', edgecolor='black')\n",
    "plt.xlabel('Número')\n",
    "plt.ylabel('Frequência')\n",
    "plt.title('Distribuição de Números Aleatórios Quânticos')\n",
    "plt.grid(True, alpha=0.3)\n",
    "\n",
    "# Contagem de cada número\n",
    "plt.subplot(1, 2, 2)\n",
    "counter = Counter(numeros)\n",
    "numeros_unicos = list(range(16))\n",
    "frequencias = [counter[i] for i in numeros_unicos]\n",
    "\n",
    "plt.bar(numeros_unicos, frequencias, alpha=0.7, color='green', edgecolor='black')\n",
    "plt.xlabel('Número')\n",
    "plt.ylabel('Frequência')\n",
    "plt.title('Frequência de Cada Número (0-15)')\n",
    "plt.xticks(numeros_unicos)\n",
    "plt.grid(True, alpha=0.3)\n",
    "\n",
    "plt.tight_layout()\n",
    "plt.show()"
   ]
  },
  {
   "cell_type": "markdown",
   "id": "bfe8beed",
   "metadata": {},
   "source": [
    "## 6. Comparação: Quântico vs Clássico\n",
    "\n",
    "Vamos comparar nosso gerador quântico com um gerador pseudoaleatório clássico:"
   ]
  },
  {
   "cell_type": "code",
   "execution_count": null,
   "id": "e67f6537",
   "metadata": {},
   "outputs": [],
   "source": [
    "def gerar_numeros_classicos(n_bits, num_amostras):\n",
    "    \"\"\"\n",
    "    Gera números pseudoaleatórios clássicos\n",
    "    \"\"\"\n",
    "    maximo = 2**n_bits - 1\n",
    "    return [random.randint(0, maximo) for _ in range(num_amostras)]\n",
    "\n",
    "# Gerar amostras para comparação\n",
    "num_amostras = 1000\n",
    "numeros_classicos = gerar_numeros_classicos(4, num_amostras)\n",
    "\n",
    "# Note: numeros_quanticos já foi gerado anteriormente\n",
    "\n",
    "# Comparar estatísticas\n",
    "print(\"Comparação Quântico vs Clássico:\")\n",
    "print(f\"Média quântica: {np.mean(numeros):.2f}\")\n",
    "print(f\"Média clássica: {np.mean(numeros_classicos):.2f}\")\n",
    "print(f\"Desvio padrão quântico: {np.std(numeros):.2f}\")\n",
    "print(f\"Desvio padrão clássico: {np.std(numeros_classicos):.2f}\")"
   ]
  },
  {
   "cell_type": "code",
   "execution_count": null,
   "id": "01ab3b3a",
   "metadata": {},
   "outputs": [],
   "source": [
    "# Visualizar comparação\n",
    "plt.figure(figsize=(12, 5))\n",
    "\n",
    "# Distribuição quântica\n",
    "plt.subplot(1, 2, 1)\n",
    "plt.hist(numeros, bins=16, alpha=0.7, color='blue', label='Quântico')\n",
    "plt.xlabel('Número')\n",
    "plt.ylabel('Frequência')\n",
    "plt.title('Gerador Quântico')\n",
    "plt.grid(True, alpha=0.3)\n",
    "plt.legend()\n",
    "\n",
    "# Distribuição clássica\n",
    "plt.subplot(1, 2, 2)\n",
    "plt.hist(numeros_classicos, bins=16, alpha=0.7, color='red', label='Clássico')\n",
    "plt.xlabel('Número')\n",
    "plt.ylabel('Frequência')\n",
    "plt.title('Gerador Pseudoaleatório Clássico')\n",
    "plt.grid(True, alpha=0.3)\n",
    "plt.legend()\n",
    "\n",
    "plt.tight_layout()\n",
    "plt.show()"
   ]
  },
  {
   "cell_type": "markdown",
   "id": "b439011a",
   "metadata": {},
   "source": [
    "## 7. Exercícios Práticos\n",
    "\n",
    "### Exercício 1: Dado Quântico\n",
    "Crie um \"dado quântico\" que gera números de 1 a 6:"
   ]
  },
  {
   "cell_type": "code",
   "execution_count": null,
   "id": "9c994020",
   "metadata": {},
   "outputs": [],
   "source": [
    "def dado_quantico():\n",
    "    \"\"\"\n",
    "    TODO: Implemente um dado quântico que gera números de 1 a 6\n",
    "    Dica: Use 3 qubits (que geram 0-7) e rejeite 0 e 7\n",
    "    \"\"\"\n",
    "    # Sua implementação aqui\n",
    "    pass\n",
    "\n",
    "# Teste seu dado\n",
    "# for i in range(20):\n",
    "#     resultado = dado_quantico()\n",
    "#     print(f\"Jogada {i+1}: {resultado}\")"
   ]
  },
  {
   "cell_type": "markdown",
   "id": "2d4e9b00",
   "metadata": {},
   "source": [
    "### Exercício 2: Moeda Enviesada\n",
    "Crie uma \"moeda quântica\" que tem probabilidades diferentes para cara e coroa:"
   ]
  },
  {
   "cell_type": "code",
   "execution_count": null,
   "id": "30144a65",
   "metadata": {},
   "outputs": [],
   "source": [
    "def moeda_enviesada(probabilidade_cara=0.7):\n",
    "    \"\"\"\n",
    "    TODO: Implemente uma moeda enviesada usando rotações quânticas\n",
    "    Dica: Use RY gate para controlar a probabilidade\n",
    "    \"\"\"\n",
    "    # Sua implementação aqui\n",
    "    pass\n",
    "\n",
    "# Teste sua moeda enviesada\n",
    "# resultados_moeda = []\n",
    "# for _ in range(1000):\n",
    "#     resultado = moeda_enviesada(0.7)\n",
    "#     resultados_moeda.append(resultado)\n",
    "# \n",
    "# caras = sum(resultados_moeda)\n",
    "# print(f\"Caras: {caras}/1000 = {caras/1000:.3f}\")"
   ]
  },
  {
   "cell_type": "markdown",
   "id": "51bad73d",
   "metadata": {},
   "source": [
    "### Exercício 3: Teste de Aleatoriedade\n",
    "Implemente um teste simples para verificar a qualidade da aleatoriedade:"
   ]
  },
  {
   "cell_type": "code",
   "execution_count": null,
   "id": "3917b191",
   "metadata": {},
   "outputs": [],
   "source": [
    "def teste_frequencia(sequencia, valor_esperado=0.5, tolerancia=0.05):\n",
    "    \"\"\"\n",
    "    TODO: Implemente um teste de frequência para bits aleatórios\n",
    "    Verifique se a proporção de 1s está dentro da tolerância esperada\n",
    "    \"\"\"\n",
    "    # Sua implementação aqui\n",
    "    pass\n",
    "\n",
    "# Teste com sequência de bits quânticos\n",
    "# bits_quanticos = [gerar_numero_aleatorio_quantico(1)[0] for _ in range(1000)]\n",
    "# resultado_teste = teste_frequencia(bits_quanticos)\n",
    "# print(f\"Teste de frequência: {resultado_teste}\")"
   ]
  },
  {
   "cell_type": "markdown",
   "id": "7952180c",
   "metadata": {},
   "source": [
    "## 8. Conclusões\n",
    "\n",
    "Nesta aula aprendemos:\n",
    "\n",
    "1. **Conceitos básicos**: Qubits, superposição e a porta Hadamard\n",
    "2. **Implementação prática**: Como criar geradores de números aleatórios quânticos\n",
    "3. **Análise estatística**: Como verificar a qualidade da aleatoriedade\n",
    "4. **Comparações**: Diferenças entre geradores quânticos e clássicos\n",
    "\n",
    "### Pontos Importantes:\n",
    "- **Aleatoriedade verdadeira**: Os números quânticos são genuinamente aleatórios, não pseudoaleatórios\n",
    "- **Princípio da superposição**: A base da aleatoriedade quântica\n",
    "- **Aplicações práticas**: Criptografia, simulações, jogos, etc.\n",
    "\n",
    "### Próximos Passos:\n",
    "- Explorar outros algoritmos quânticos\n",
    "- Implementar geradores mais sofisticados\n",
    "- Executar em hardware quântico real\n",
    "\n",
    "---\n",
    "\n",
    "**Parabéns!** Você completou sua primeira aula de computação quântica com Qiskit! 🎉"
   ]
  }
 ],
 "metadata": {
  "language_info": {
   "name": "python"
  }
 },
 "nbformat": 4,
 "nbformat_minor": 5
}
